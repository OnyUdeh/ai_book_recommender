{
 "cells": [
  {
   "cell_type": "code",
   "execution_count": 7,
   "id": "d5f03780-9ca8-477c-be16-829f51866b64",
   "metadata": {},
   "outputs": [
    {
     "name": "stdout",
     "output_type": "stream",
     "text": [
      "hello\n"
     ]
    }
   ],
   "source": [
    "print(\"hello\")"
   ]
  },
  {
   "cell_type": "code",
   "execution_count": 26,
   "id": "afb9c5f4-fffc-4c43-9de4-8df098ff3084",
   "metadata": {},
   "outputs": [
    {
     "name": "stderr",
     "output_type": "stream",
     "text": [
      "IOPub data rate exceeded.\n",
      "The Jupyter server will temporarily stop sending output\n",
      "to the client in order to avoid crashing it.\n",
      "To change this limit, set the config variable\n",
      "`--ServerApp.iopub_data_rate_limit`.\n",
      "\n",
      "Current values:\n",
      "ServerApp.iopub_data_rate_limit=1000000.0 (bytes/sec)\n",
      "ServerApp.rate_limit_window=3.0 (secs)\n",
      "\n"
     ]
    },
    {
     "name": "stdout",
     "output_type": "stream",
     "text": [
      "* Running on local URL:  http://127.0.0.1:7865\n",
      "* To create a public link, set `share=True` in `launch()`.\n"
     ]
    },
    {
     "data": {
      "text/html": [
       "<div><iframe src=\"http://127.0.0.1:7865/\" width=\"100%\" height=\"500\" allow=\"autoplay; camera; microphone; clipboard-read; clipboard-write;\" frameborder=\"0\" allowfullscreen></iframe></div>"
      ],
      "text/plain": [
       "<IPython.core.display.HTML object>"
      ]
     },
     "metadata": {},
     "output_type": "display_data"
    }
   ],
   "source": [
    "import gradio as gr\n",
    "import pandas as pd\n",
    "import openai\n",
    "import os\n",
    "\n",
    "# Load the books dataset\n",
    "books = pd.read_csv(\"books.csv\")  \n",
    "\n",
    "# Define the fixed category set\n",
    "CATEGORIES = ['romance', 'thriller', 'mystery', 'sad', 'funny', 'dark', 'hopeful', 'fantasy', 'adventure', 'drama']\n",
    "\n",
    "# Set OpenAI key from environment or secret\n",
    "openai.api_key = \"sk-xxxxxxxxxxxxxxxxxxxxxxxxxxxxxxxxxxxxxxxx\"\n",
    "\n",
    "# Creating simplified categories \n",
    "def simplify_tags(original_tags):\n",
    "    try:\n",
    "        prompt = f\"\"\"\n",
    "        You are a helpful assistant. Map the following book tags to the most relevant ones from this limited list:\n",
    "        {', '.join(CATEGORIES)}.\n",
    "\n",
    "        Input tags: {original_tags}\n",
    "\n",
    "        Return only a comma-separated list of the most relevant simplified categories.\n",
    "        \"\"\"\n",
    "\n",
    "        response = openai.ChatCompletion.create(\n",
    "            model=\"gpt-3.5-turbo\",\n",
    "            messages=[{\"role\": \"user\", \"content\": prompt}],\n",
    "            temperature=0\n",
    "        )\n",
    "        \n",
    "        simplified = response.choices[0].message.content.lower().split(\",\")\n",
    "        return \",\".join([tag.strip() for tag in simplified if tag.strip() in CATEGORIES])\n",
    "\n",
    "    except Exception as e:\n",
    "        print(f\"Error simplifying tags: {e}\")\n",
    "        return \"\"\n",
    "\n",
    "# Create simplified tags column (run once)\n",
    "if \"simplified_tags\" not in books.columns:\n",
    "    books[\"simplified_tags\"] = books[\"categories\"].apply(simplify_tags)  # Replace 'categories' with your actual column name\n",
    "\n",
    "# Function to extract categories using OpenAI\n",
    "def extract_categories(user_input):\n",
    "    try:\n",
    "        prompt = f\"\"\"\n",
    "        You are a helpful assistant that classifies book preferences. Given a user input, extract relevant categories \n",
    "        from this list: {', '.join(CATEGORIES)}. Only return the most relevant ones as a comma-separated list.\n",
    "\n",
    "        User input: \"{user_input}\"\n",
    "        \"\"\"\n",
    "\n",
    "        response = openai.ChatCompletion.create(\n",
    "            model=\"gpt-3.5-turbo\",\n",
    "            messages=[{\"role\": \"user\", \"content\": prompt}],\n",
    "            temperature=0.3\n",
    "        )\n",
    "\n",
    "        categories = response.choices[0].message.content.lower().split(\",\")\n",
    "        return [cat.strip() for cat in categories if cat.strip() in CATEGORIES]\n",
    "    \n",
    "    except Exception as e:\n",
    "        print(\"Error during category extraction:\", str(e))\n",
    "        return [\"Error\"]\n",
    "\n",
    "# Recommend books based on matched categories\n",
    "def recommend_books(user_input):\n",
    "    matched_categories = extract_categories(user_input)\n",
    "\n",
    "    def match_score(row):\n",
    "        tags = row[\"simplified_tags\"].lower().split(\",\")\n",
    "        return len(set(matched_categories) & set([tag.strip() for tag in tags]))\n",
    "\n",
    "    books[\"score\"] = books.apply(match_score, axis=1)\n",
    "    top_books = books[books[\"score\"] > 0].sort_values(by=\"score\", ascending=False).head(5)\n",
    "\n",
    "    if top_books.empty:\n",
    "        return f\"No matches found for: {', '.join(matched_categories)}\", \"\"\n",
    "\n",
    "    output = \"\"\n",
    "    for _, row in top_books.iterrows():\n",
    "        output += f\"**{row['title']}** by *{row['author']}*\\n\"\n",
    "        output += f\"Genre: {row['genre']}\\n\"\n",
    "        output += f\"Tags: {row['simplified_tags']}\\n\"\n",
    "        output += f\"{row['description']}\\n\\n---\\n\\n\"\n",
    "\n",
    "    return f\"Matched Categories: {', '.join(matched_categories)}\", output.strip()\n",
    "\n",
    "# Gradio Interface\n",
    "iface = gr.Interface(\n",
    "    fn=recommend_books,\n",
    "    inputs=gr.Textbox(lines=2, placeholder=\"e.g. I want a sad book about romance\"),\n",
    "    outputs=[\n",
    "        gr.Textbox(label=\"Matched Categories\"),\n",
    "        gr.Markdown(label=\"Top Book Recommendations\")\n",
    "    ],\n",
    "    title=\"AI Book Recommender\",\n",
    "    description=\"Describe what kind of book you're looking for, and get personalized recommendations!\"\n",
    ")\n",
    "\n",
    "if __name__ == \"__main__\":\n",
    "    iface.launch()\n"
   ]
  },
  {
   "cell_type": "code",
   "execution_count": null,
   "id": "75878410-6d99-4851-9329-9d8cce372f33",
   "metadata": {},
   "outputs": [],
   "source": []
  }
 ],
 "metadata": {
  "kernelspec": {
   "display_name": "Python [conda env:base] *",
   "language": "python",
   "name": "conda-base-py"
  },
  "language_info": {
   "codemirror_mode": {
    "name": "ipython",
    "version": 3
   },
   "file_extension": ".py",
   "mimetype": "text/x-python",
   "name": "python",
   "nbconvert_exporter": "python",
   "pygments_lexer": "ipython3",
   "version": "3.12.7"
  }
 },
 "nbformat": 4,
 "nbformat_minor": 5
}
