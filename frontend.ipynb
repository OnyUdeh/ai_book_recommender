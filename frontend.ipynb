{
 "cells": [
  {
   "cell_type": "code",
   "execution_count": 1,
   "id": "23286fbe-8d0f-4fa8-8a17-3aa9136bcc52",
   "metadata": {},
   "outputs": [
    {
     "name": "stdout",
     "output_type": "stream",
     "text": [
      "Collecting snowflake-connector-python\n",
      "  Downloading snowflake_connector_python-3.15.0-cp312-cp312-macosx_11_0_x86_64.whl.metadata (70 kB)\n",
      "Collecting asn1crypto<2.0.0,>0.24.0 (from snowflake-connector-python)\n",
      "  Downloading asn1crypto-1.5.1-py2.py3-none-any.whl.metadata (13 kB)\n",
      "Collecting boto3>=1.24 (from snowflake-connector-python)\n",
      "  Downloading boto3-1.39.0-py3-none-any.whl.metadata (6.6 kB)\n",
      "Requirement already satisfied: botocore>=1.24 in /opt/anaconda3/lib/python3.12/site-packages (from snowflake-connector-python) (1.34.69)\n",
      "Requirement already satisfied: cffi<2.0.0,>=1.9 in /opt/anaconda3/lib/python3.12/site-packages (from snowflake-connector-python) (1.17.1)\n",
      "Requirement already satisfied: cryptography>=3.1.0 in /opt/anaconda3/lib/python3.12/site-packages (from snowflake-connector-python) (43.0.0)\n",
      "Requirement already satisfied: pyOpenSSL<26.0.0,>=22.0.0 in /opt/anaconda3/lib/python3.12/site-packages (from snowflake-connector-python) (24.2.1)\n",
      "Requirement already satisfied: pyjwt<3.0.0 in /opt/anaconda3/lib/python3.12/site-packages (from snowflake-connector-python) (2.8.0)\n",
      "Requirement already satisfied: pytz in /opt/anaconda3/lib/python3.12/site-packages (from snowflake-connector-python) (2024.1)\n",
      "Requirement already satisfied: requests<3.0.0 in /opt/anaconda3/lib/python3.12/site-packages (from snowflake-connector-python) (2.32.3)\n",
      "Requirement already satisfied: packaging in /opt/anaconda3/lib/python3.12/site-packages (from snowflake-connector-python) (24.1)\n",
      "Requirement already satisfied: charset_normalizer<4,>=2 in /opt/anaconda3/lib/python3.12/site-packages (from snowflake-connector-python) (3.3.2)\n",
      "Requirement already satisfied: idna<4,>=2.5 in /opt/anaconda3/lib/python3.12/site-packages (from snowflake-connector-python) (3.7)\n",
      "Requirement already satisfied: certifi>=2017.4.17 in /opt/anaconda3/lib/python3.12/site-packages (from snowflake-connector-python) (2025.4.26)\n",
      "Requirement already satisfied: typing_extensions<5,>=4.3 in /opt/anaconda3/lib/python3.12/site-packages (from snowflake-connector-python) (4.13.2)\n",
      "Requirement already satisfied: filelock<4,>=3.5 in /opt/anaconda3/lib/python3.12/site-packages (from snowflake-connector-python) (3.13.1)\n",
      "Requirement already satisfied: sortedcontainers>=2.4.0 in /opt/anaconda3/lib/python3.12/site-packages (from snowflake-connector-python) (2.4.0)\n",
      "Requirement already satisfied: platformdirs<5.0.0,>=2.6.0 in /opt/anaconda3/lib/python3.12/site-packages (from snowflake-connector-python) (3.10.0)\n",
      "Requirement already satisfied: tomlkit in /opt/anaconda3/lib/python3.12/site-packages (from snowflake-connector-python) (0.13.3)\n",
      "Collecting botocore>=1.24 (from snowflake-connector-python)\n",
      "  Downloading botocore-1.39.0-py3-none-any.whl.metadata (5.7 kB)\n",
      "Requirement already satisfied: jmespath<2.0.0,>=0.7.1 in /opt/anaconda3/lib/python3.12/site-packages (from boto3>=1.24->snowflake-connector-python) (1.0.1)\n",
      "Collecting s3transfer<0.14.0,>=0.13.0 (from boto3>=1.24->snowflake-connector-python)\n",
      "  Downloading s3transfer-0.13.0-py3-none-any.whl.metadata (1.7 kB)\n",
      "Requirement already satisfied: python-dateutil<3.0.0,>=2.1 in /opt/anaconda3/lib/python3.12/site-packages (from botocore>=1.24->snowflake-connector-python) (2.9.0.post0)\n",
      "Requirement already satisfied: urllib3!=2.2.0,<3,>=1.25.4 in /opt/anaconda3/lib/python3.12/site-packages (from botocore>=1.24->snowflake-connector-python) (2.4.0)\n",
      "Requirement already satisfied: pycparser in /opt/anaconda3/lib/python3.12/site-packages (from cffi<2.0.0,>=1.9->snowflake-connector-python) (2.21)\n",
      "Requirement already satisfied: six>=1.5 in /opt/anaconda3/lib/python3.12/site-packages (from python-dateutil<3.0.0,>=2.1->botocore>=1.24->snowflake-connector-python) (1.16.0)\n",
      "Downloading snowflake_connector_python-3.15.0-cp312-cp312-macosx_11_0_x86_64.whl (999 kB)\n",
      "\u001b[2K   \u001b[90m━━━━━━━━━━━━━━━━━━━━━━━━━━━━━━━━━━━━━━━━\u001b[0m \u001b[32m999.9/999.9 kB\u001b[0m \u001b[31m14.3 MB/s\u001b[0m eta \u001b[36m0:00:00\u001b[0m\n",
      "\u001b[?25hDownloading asn1crypto-1.5.1-py2.py3-none-any.whl (105 kB)\n",
      "Downloading boto3-1.39.0-py3-none-any.whl (139 kB)\n",
      "Downloading botocore-1.39.0-py3-none-any.whl (13.8 MB)\n",
      "\u001b[2K   \u001b[90m━━━━━━━━━━━━━━━━━━━━━━━━━━━━━━━━━━━━━━━━\u001b[0m \u001b[32m13.8/13.8 MB\u001b[0m \u001b[31m26.9 MB/s\u001b[0m eta \u001b[36m0:00:00\u001b[0m00:01\u001b[0m0:01\u001b[0m\n",
      "\u001b[?25hDownloading s3transfer-0.13.0-py3-none-any.whl (85 kB)\n",
      "Installing collected packages: asn1crypto, botocore, s3transfer, boto3, snowflake-connector-python\n",
      "  Attempting uninstall: botocore\n",
      "    Found existing installation: botocore 1.34.69\n",
      "    Uninstalling botocore-1.34.69:\n",
      "      Successfully uninstalled botocore-1.34.69\n",
      "\u001b[31mERROR: pip's dependency resolver does not currently take into account all the packages that are installed. This behaviour is the source of the following dependency conflicts.\n",
      "aiobotocore 2.12.3 requires botocore<1.34.70,>=1.34.41, but you have botocore 1.39.0 which is incompatible.\u001b[0m\u001b[31m\n",
      "\u001b[0mSuccessfully installed asn1crypto-1.5.1 boto3-1.39.0 botocore-1.39.0 s3transfer-0.13.0 snowflake-connector-python-3.15.0\n",
      "Note: you may need to restart the kernel to use updated packages.\n"
     ]
    }
   ],
   "source": [
    "pip install snowflake-connector-python"
   ]
  },
  {
   "cell_type": "markdown",
   "id": "4cc91451-f75b-4ac1-a074-faba4cf364db",
   "metadata": {},
   "source": [
    "**USER ACCOUNT STORAGE**"
   ]
  },
  {
   "cell_type": "code",
   "execution_count": 28,
   "id": "ad630dcc-fdf8-4f94-99d3-6a3d6aaa382a",
   "metadata": {},
   "outputs": [],
   "source": [
    "import gradio as gr\n",
    "import json\n",
    "import os\n",
    "\n",
    "# USER ACCOUNT STORAGE\n",
    "USERS_FILE = \"users.json\"\n",
    "\n",
    "if not os.path.exists(USERS_FILE):\n",
    "    with open(USERS_FILE, \"w\") as f:\n",
    "        json.dump({}, f)\n",
    "\n",
    "def load_users():\n",
    "    with open(USERS_FILE, \"r\") as f:\n",
    "        return json.load(f)\n",
    "\n",
    "def save_users(users):\n",
    "    with open(USERS_FILE, \"w\") as f:\n",
    "        json.dump(users, f)\n",
    "\n",
    "# AUTH FUNCTIONS\n",
    "def create_account(new_username, new_password):\n",
    "    users = load_users()\n",
    "    if new_username in users:\n",
    "        return \"Username already exists.\"\n",
    "    users[new_username] = new_password\n",
    "    save_users(users)\n",
    "    return \"Account created successfully. You can now log in.\"\n",
    "\n",
    "def login(username, password):\n",
    "    users = load_users()\n",
    "    if username in users and users[username] == password:\n",
    "        return gr.update(visible=False), gr.update(visible=False), gr.update(visible=True), \"\"\n",
    "    else:\n",
    "        return gr.update(), gr.update(), gr.update(), \"Invalid credentials.\"\n",
    "\n",
    "\n"
   ]
  },
  {
   "cell_type": "markdown",
   "id": "ea711c77-1005-4d51-a213-12d1e1dc82b5",
   "metadata": {},
   "source": [
    "**BOOK RECOMMENDER FUNCTION**"
   ]
  },
  {
   "cell_type": "code",
   "execution_count": 31,
   "id": "ee58d132-4245-4313-952d-0b392ae77e98",
   "metadata": {},
   "outputs": [],
   "source": [
    "def recommend_books(description, category, tone):\n",
    "    return f\"\"\"**You searched for:**  \n",
    "- Description: {description}  \n",
    "- Category: {category}  \n",
    "- Tone: {tone}  \n",
    "\n",
    "Recommended Books:  \n",
    "- \"Example Book 1\"  \n",
    "- \"Example Book 2\"  \n",
    "- \"Example Book 3\"\n",
    "\"\"\""
   ]
  },
  {
   "cell_type": "markdown",
   "id": "2f6b2b79-d972-4de5-8a0b-33198c6365b7",
   "metadata": {},
   "source": [
    "**CUSTOM THEME**"
   ]
  },
  {
   "cell_type": "code",
   "execution_count": 34,
   "id": "69e918e8-932d-4b76-b42a-14f84ac9d6b3",
   "metadata": {},
   "outputs": [],
   "source": [
    "theme = gr.themes.Base(\n",
    "    primary_hue=\"yellow\",   # soft gold tone\n",
    "    secondary_hue=\"blue\",\n",
    "    neutral_hue=\"slate\"\n",
    ")\n"
   ]
  },
  {
   "cell_type": "code",
   "execution_count": null,
   "id": "d03c291f-9f07-4bb7-8615-703765e522f9",
   "metadata": {},
   "outputs": [],
   "source": []
  },
  {
   "cell_type": "markdown",
   "id": "361d7485-1cb4-4504-aea5-60877e01813c",
   "metadata": {},
   "source": [
    "**this creates the interface using gradio**"
   ]
  },
  {
   "cell_type": "code",
   "execution_count": 38,
   "id": "eb065cec-8a4d-45ec-a1ea-0625f9958fde",
   "metadata": {},
   "outputs": [
    {
     "name": "stdout",
     "output_type": "stream",
     "text": [
      "* Running on local URL:  http://127.0.0.1:7864\n",
      "* To create a public link, set `share=True` in `launch()`.\n"
     ]
    },
    {
     "data": {
      "text/html": [
       "<div><iframe src=\"http://127.0.0.1:7864/\" width=\"100%\" height=\"500\" allow=\"autoplay; camera; microphone; clipboard-read; clipboard-write;\" frameborder=\"0\" allowfullscreen></iframe></div>"
      ],
      "text/plain": [
       "<IPython.core.display.HTML object>"
      ]
     },
     "metadata": {},
     "output_type": "display_data"
    },
    {
     "data": {
      "text/plain": []
     },
     "execution_count": 38,
     "metadata": {},
     "output_type": "execute_result"
    }
   ],
   "source": [
    "# GRADIO INTERFACE\n",
    "with gr.Blocks(theme=theme) as demo:\n",
    "    # LOGIN SECTION\n",
    "    login_section = gr.Group(visible=True)\n",
    "    with login_section:\n",
    "        gr.Markdown(\"## Login to continue\")\n",
    "        username = gr.Textbox(label=\"Username\")\n",
    "        password = gr.Textbox(label=\"Password\", type=\"password\")\n",
    "        login_btn = gr.Button(\"Login\")\n",
    "        login_error = gr.Markdown(\"\")\n",
    "\n",
    "    # SIGN UP SECTION\n",
    "    signup_section = gr.Group(visible=True)\n",
    "    with signup_section:\n",
    "        gr.Markdown(\"## Create an Account\")\n",
    "        new_username = gr.Textbox(label=\"New Username\")\n",
    "        new_password = gr.Textbox(label=\"New Password\", type=\"password\")\n",
    "        signup_btn = gr.Button(\"Create Account\")\n",
    "        signup_msg = gr.Markdown(\"\")\n",
    "\n",
    "    # MAIN APP SECTION\n",
    "    app_section = gr.Group(visible=False)\n",
    "    with app_section:\n",
    "        gr.Markdown(\"## Semantic Book Recommender\")\n",
    "\n",
    "        with gr.Row(equal_height=True):\n",
    "            description = gr.Textbox(label=\"Please enter a description of a book\", scale=2)\n",
    "            category = gr.Dropdown(label=\"Select a category:\", choices=[\"All\", \"History\", \"Sci-Fi\", \"Fantasy\"], value=\"All\", scale=1)\n",
    "            tone = gr.Dropdown(label=\"Select an emotional tone:\", choices=[\"All\", \"Uplifting\", \"Dark\"], value=\"All\", scale=1)\n",
    "            find_button = gr.Button(\"Find recommendations\", size=\"lg\", scale=1)\n",
    "\n",
    "        output = gr.Textbox(label=\"Recommended books\", lines=8)\n",
    "\n",
    "    # BUTTON LOGIC\n",
    "    login_btn.click(fn=login, inputs=[username, password],\n",
    "                    outputs=[login_section, signup_section, app_section, login_error])\n",
    "\n",
    "    signup_btn.click(fn=create_account, inputs=[new_username, new_password],\n",
    "                     outputs=signup_msg)\n",
    "\n",
    "    find_button.click(fn=recommend_books,\n",
    "                      inputs=[description, category, tone],\n",
    "                      outputs=output)\n",
    "\n",
    "demo.launch()"
   ]
  },
  {
   "cell_type": "code",
   "execution_count": 4,
   "id": "b499796f-b816-4a58-99db-3248afbf9d38",
   "metadata": {},
   "outputs": [
    {
     "name": "stdout",
     "output_type": "stream",
     "text": [
      "Closing server running on port: 7861\n"
     ]
    }
   ],
   "source": [
    "demo.close()"
   ]
  },
  {
   "cell_type": "code",
   "execution_count": null,
   "id": "57f5b647-acb3-4f41-81de-79f02e80801f",
   "metadata": {},
   "outputs": [],
   "source": []
  }
 ],
 "metadata": {
  "kernelspec": {
   "display_name": "Python [conda env:base] *",
   "language": "python",
   "name": "conda-base-py"
  },
  "language_info": {
   "codemirror_mode": {
    "name": "ipython",
    "version": 3
   },
   "file_extension": ".py",
   "mimetype": "text/x-python",
   "name": "python",
   "nbconvert_exporter": "python",
   "pygments_lexer": "ipython3",
   "version": "3.12.2"
  }
 },
 "nbformat": 4,
 "nbformat_minor": 5
}
